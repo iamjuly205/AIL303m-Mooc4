{
  "cells": [
    {
      "cell_type": "markdown",
      "metadata": {
        "id": "nTyQU_i_cob-"
      },
      "source": [
        "<p style=\"text-align:center\">\n",
        "    <a href=\"https://skills.network/?utm_medium=Exinfluencer&utm_source=Exinfluencer&utm_content=000026UJ&utm_term=10006555&utm_id=NA-SkillsNetwork-Channel-SkillsNetworkCoursesIBMML0187ENSkillsNetwork31430127-2022-01-01\" target=\"_blank\">\n",
        "    <img src=\"https://cf-courses-data.s3.us.cloud-object-storage.appdomain.cloud/assets/logos/SN_web_lightmode.png\" width=\"200\" alt=\"Skills Network Logo\">\n",
        "    </a>\n",
        "</p>\n"
      ]
    },
    {
      "cell_type": "markdown",
      "metadata": {
        "id": "A1OMM8C4cob_"
      },
      "source": [
        "# Matrix Review\n",
        "\n",
        "Estimated time needed: **45** minutes\n"
      ]
    },
    {
      "cell_type": "markdown",
      "metadata": {
        "id": "KD1Vl_Yxcob_"
      },
      "source": [
        "Matrix operations are a fundamental part of machine learning and many fields, such as digital signal processing, optimization, control systems, computer graphics, and so on. As a result, there has been a lot of work on optimizing matrix operations, not only in software, but in hardware. Let's say you work for a AI hardware  company, the company has developed a new processor that can only perform matrix operations. The company needs you to implement some popular  statistics such as mean, variance and Principle Component Analysis using Matrix operations\n"
      ]
    },
    {
      "cell_type": "markdown",
      "metadata": {
        "id": "eicAsgoDcob_"
      },
      "source": [
        "<img src=\"https://cf-courses-data.s3.us.cloud-object-storage.appdomain.cloud/IBM-ML0187EN-SkillsNetwork/labs/module%203/images/technology-electronic-device-computer-hardware-computer-component-electronics-motherboard-personal-computer-hardware-cpu-computer-accessory-1536663.jpeg\" width=\"500\" alt=\"https://pxhere.com/en/photo/1536663\">\n"
      ]
    },
    {
      "cell_type": "markdown",
      "metadata": {
        "tags": [],
        "id": "3zp1IlB-cocA"
      },
      "source": [
        "## Table of Contents\n",
        "\n",
        "<ol>\n",
        "    <li><a href=\"https://#Objectives\">Objectives</a></li>\n",
        "    <li>\n",
        "        <a href=\"https://#Setup\">Setup</a>\n",
        "        <ol>\n",
        "            <li><a href=\"https://#Installing-Required-Libraries\">Installing Required Libraries</a></li>\n",
        "            <li><a href=\"https://#Importing-Required-Libraries\">Importing Required Libraries</a></li>\n",
        "            <li><a href=\"https://#Defining-Helper-Functions\">Defining Helper Functions</a></li>\n",
        "        </ol>\n",
        "    </li>\n",
        "    <li>\n",
        "        <a href=\"https://#Basics of Matrices\">Basics of Matrices</a>\n",
        "        <ol>\n",
        "            <li><a href=\"https://https://https://#What's a Matrix?\">What's a Matrix? </a></li>\n",
        "            <li><a href=\"https://https://https://#Rank of a Matrix\">Rank of a Matrix </a></li>\n",
        "            <li><a href=\"https://#Frobenius Norm of a Matrix\">Frobenius Norm of a Matrix</a></li>\n",
        "            <li><a href=\"https://#Matrix Additione\"> Matrix Addition</a></li>\n",
        "        </ol>\n",
        "    </li>\n",
        "  <li>\n",
        "        <a href=\"https://https://#Matrix and Vector Multiplication\">Matrix and Vector Multiplication</a>\n",
        "        <ol>\n",
        "            <li><a href=\"#What's a Matrix?\"> Dot-Product </a></li>\n",
        "            <li><a href=\"#Rank of a Matrix\">The Outer product</a></li>\n",
        "            <li><a href=\"#Matrix and Vector Multiplication\">Matrix and Vector Multiplication</a></li>\n",
        "            <li><a href=\"https://#Matrix Multiplication\">Multiplying Matrices</a></li>\n",
        "     </ol>\n",
        "   </li>\n",
        "   <li>\n",
        "        <a href=\"https://#Eigen Decomposition\">Eigen Decomposition</a>\n",
        "        <ol>\n",
        "            <li><a href=\"#What's a Matrix?\"> Eigenvectors and Eigenvalues </a></li>\n",
        "            <li><a href=\"#Rank of a Matrix\">The Factorization for PCA</a></li>\n",
        "        </ol>     \n",
        "   </li>\n",
        "\n",
        " </ol>    \n"
      ]
    },
    {
      "cell_type": "markdown",
      "metadata": {
        "id": "RoLn-9NicocA"
      },
      "source": [
        "***\n"
      ]
    },
    {
      "cell_type": "markdown",
      "metadata": {
        "id": "u94w2FOvcocA"
      },
      "source": [
        "## Objectives\n",
        "\n",
        "After completing this lab you will be able to:\n",
        "\n",
        "*   **Understand** Basic Matrix operations such as Matrix addition, Vector Multiplication  Eigen decomposition\n",
        "\n",
        "*   **Apply** Apply these Matrix operations using numpy\n"
      ]
    },
    {
      "cell_type": "markdown",
      "metadata": {
        "id": "2lCh8VERcocA"
      },
      "source": [
        "## Setup\n"
      ]
    },
    {
      "cell_type": "markdown",
      "metadata": {
        "id": "feEsvXe0cocA"
      },
      "source": [
        "For this lab, we will be using the following libraries:\n",
        "\n",
        "*   [`pandas`](https://pandas.pydata.org/?utm_medium=Exinfluencer&utm_source=Exinfluencer&utm_content=000026UJ&utm_term=10006555&utm_id=NA-SkillsNetwork-Channel-SkillsNetworkCoursesIBMML240ENSkillsNetwork34171862-2022-01-01) for managing the data.\n",
        "*   [`numpy`](https://numpy.org/?utm_medium=Exinfluencer&utm_source=Exinfluencer&utm_content=000026UJ&utm_term=10006555&utm_id=NA-SkillsNetwork-Channel-SkillsNetworkCoursesIBMML240ENSkillsNetwork34171862-2022-01-01) for mathematical operations.\n",
        "*   [`seaborn`](https://seaborn.pydata.org/?utm_medium=Exinfluencer&utm_source=Exinfluencer&utm_content=000026UJ&utm_term=10006555&utm_id=NA-SkillsNetwork-Channel-SkillsNetworkCoursesIBMML240ENSkillsNetwork34171862-2022-01-01) for visualizing the data.\n",
        "*   [`matplotlib`](https://matplotlib.org/?utm_medium=Exinfluencer&utm_source=Exinfluencer&utm_content=000026UJ&utm_term=10006555&utm_id=NA-SkillsNetwork-Channel-SkillsNetworkCoursesIBMML240ENSkillsNetwork34171862-2022-01-01) for visualizing the data.\n",
        "*   [`sklearn`](https://scikit-learn.org/stable/?utm_medium=Exinfluencer&utm_source=Exinfluencer&utm_content=000026UJ&utm_term=10006555&utm_id=NA-SkillsNetwork-Channel-SkillsNetworkCoursesIBMML240ENSkillsNetwork34171862-2022-01-01) for machine learning and machine-learning-pipeline related functions.\n"
      ]
    },
    {
      "cell_type": "markdown",
      "metadata": {
        "id": "7pQvA02icocA"
      },
      "source": [
        "### Installing required libraries\n"
      ]
    },
    {
      "cell_type": "markdown",
      "metadata": {
        "id": "m2dvkznxcocA"
      },
      "source": [
        "The following required modules are pre-installed in the Skills Network Labs environment. However, if you run this notebook commands in a different Jupyter environment (e.g. Watson Studio or Ananconda) you will need to install these libraries by removing the `#` sign before `!mamba` in the code cell below.\n"
      ]
    },
    {
      "cell_type": "code",
      "execution_count": 1,
      "metadata": {
        "id": "qfv9-OEgcocA"
      },
      "outputs": [],
      "source": [
        "# All Libraries required for this lab are listed below. The libraries pre-installed on Skills Network Labs are commented.\n",
        "# !mamba install -qy pandas==1.3.4 numpy==1.21.4 seaborn==0.9.0 matplotlib==3.5.0 scikit-learn==0.20.1\n",
        "# Note: If your environment doesn't support \"!mamba install\", use \"!pip install pandas ==1.3.4 ...\""
      ]
    },
    {
      "cell_type": "markdown",
      "metadata": {
        "id": "TCUIEV6CcocB"
      },
      "source": [
        "You can install and use  <a href=\"https://www.sympy.org/en/index.html?utm_medium=Exinfluencer&utm_source=Exinfluencer&utm_content=000026UJ&utm_term=10006555&utm_id=NA-SkillsNetwork-Channel-SkillsNetworkCoursesIBMML0187ENSkillsNetwork31430127-2022-01-01\">SymPy </a> to print matrices\n"
      ]
    },
    {
      "cell_type": "code",
      "execution_count": 2,
      "metadata": {
        "colab": {
          "base_uri": "https://localhost:8080/"
        },
        "id": "e2OvdzcScocB",
        "outputId": "b069bd40-372d-48da-9e33-785ae61996d0"
      },
      "outputs": [
        {
          "output_type": "stream",
          "name": "stdout",
          "text": [
            "/bin/bash: line 1: conda: command not found\n"
          ]
        }
      ],
      "source": [
        "!conda install -c anaconda sympy -y # Cài đặt thư viện SymPy bằng conda"
      ]
    },
    {
      "cell_type": "markdown",
      "metadata": {
        "id": "i1o_Ex9ycocB"
      },
      "source": [
        "### Importing required libraries\n"
      ]
    },
    {
      "cell_type": "code",
      "execution_count": 3,
      "metadata": {
        "id": "QtmlOl42cocB"
      },
      "outputs": [],
      "source": [
        "# Surpress warnings from using older version of sklearn:\n",
        "def warn(*args, **kwargs):\n",
        "    pass # Định nghĩa một hàm rỗng để bỏ qua cảnh báo\n",
        "import warnings\n",
        "warnings.warn = warn # Gán hàm warn cho warnings.warn để tắt cảnh báo\n",
        "\n",
        "import numpy as np # Import thư viện numpy với alias là np\n",
        "import matplotlib.pylab as plt # Import module pylab từ matplotlib với alias là plt\n",
        "\n",
        "from sklearn.decomposition import PCA # Import lớp PCA từ sklearn.decomposition\n",
        "from sympy import Matrix, init_printing,Symbol # Import các đối tượng Matrix, init_printing, Symbol từ sympy\n",
        "from numpy.linalg import qr,eig,inv,matrix_rank,inv, norm # Import các hàm qr, eig, inv, matrix_rank, inv, norm từ numpy.linalg\n",
        "from scipy.linalg import null_space # Import hàm null_space từ scipy.linalg\n",
        "init_printing() # Khởi tạo chức năng in đẹp của sympy"
      ]
    },
    {
      "cell_type": "markdown",
      "metadata": {
        "id": "JWm2XaPvcocB"
      },
      "source": [
        "### Defining Helper Functions\n",
        "\n",
        "*Use this section to define any helper functions to help the notebook's code readability:*\n"
      ]
    },
    {
      "cell_type": "code",
      "execution_count": 4,
      "metadata": {
        "id": "KpZ3WmoAcocB"
      },
      "outputs": [],
      "source": [
        "def plot_2d(dict_): # Định nghĩa hàm plot_2d nhận một dictionary làm đối số\n",
        "    for key, value in dict_.items(): # Lặp qua các cặp key-value trong dictionary\n",
        "        if value.shape[0]>2: # Kiểm tra nếu số hàng của mảng lớn hơn 2\n",
        "            plt.scatter(value[:, 0], value[:, 1],label=key) # Vẽ biểu đồ scatter cho dữ liệu 2D\n",
        "        else: # Nếu không (số hàng nhỏ hơn hoặc bằng 2)\n",
        "            print(value) # In giá trị của mảng\n",
        "            plt.quiver([0],[0],value[:,0],value[:,1],label=key) # Vẽ các vector từ gốc tọa độ\n",
        "\n",
        "    plt.legend() # Hiển thị chú giải\n",
        "    plt.show() # Hiển thị biểu đồ"
      ]
    },
    {
      "cell_type": "markdown",
      "metadata": {
        "tags": [],
        "id": "Dzk0z06LcocB"
      },
      "source": [
        "## Basics of Matrices\n"
      ]
    },
    {
      "cell_type": "markdown",
      "metadata": {
        "id": "DOFnAUC6cocB"
      },
      "source": [
        "### What's a Matrix\n"
      ]
    },
    {
      "cell_type": "markdown",
      "metadata": {
        "id": "2UOKZtpfcocB"
      },
      "source": [
        "Numpy treats matrix objects as numpy arrays, so we will use Numpy to create matrices. Let's consider the square matrix A.\n"
      ]
    },
    {
      "cell_type": "markdown",
      "metadata": {
        "id": "9xBTNzMscocB"
      },
      "source": [
        "**NOTE**: We use the function `Matrix` to print out the Matrix , each column of matrix has two columns: Matrix $\\mathbf{A}=[\\mathbf{a}*{1},\\mathbf{a}*{2}]$\n"
      ]
    },
    {
      "cell_type": "code",
      "execution_count": 5,
      "metadata": {
        "colab": {
          "base_uri": "https://localhost:8080/",
          "height": 58
        },
        "id": "mwrUZoedcocB",
        "outputId": "145ec906-e311-4475-a25c-5a3c7b3bf8b6"
      },
      "outputs": [
        {
          "output_type": "execute_result",
          "data": {
            "text/plain": [
              "⎡2  -3⎤\n",
              "⎢     ⎥\n",
              "⎣4  7 ⎦"
            ],
            "text/latex": "$\\displaystyle \\left[\\begin{matrix}2 & -3\\\\4 & 7\\end{matrix}\\right]$"
          },
          "metadata": {},
          "execution_count": 5
        }
      ],
      "source": [
        "A=np.array([[2,-3],[4,7]]) # Tạo ma trận A bằng numpy array\n",
        "\n",
        "Matrix(A) # Hiển thị ma trận A bằng SymPy"
      ]
    },
    {
      "cell_type": "code",
      "execution_count": 6,
      "metadata": {
        "colab": {
          "base_uri": "https://localhost:8080/"
        },
        "id": "FQe4LVmPcocB",
        "outputId": "fac0aa48-17ff-471c-9915-d37c43e62675"
      },
      "outputs": [
        {
          "output_type": "execute_result",
          "data": {
            "text/plain": [
              "array([2, 4])"
            ]
          },
          "metadata": {},
          "execution_count": 6
        }
      ],
      "source": [
        "a1=A[:,0] # Chọn cột đầu tiên của ma trận A và gán cho a1\n",
        "a1 # Hiển thị a1"
      ]
    },
    {
      "cell_type": "code",
      "execution_count": 7,
      "metadata": {
        "colab": {
          "base_uri": "https://localhost:8080/"
        },
        "id": "49rMWMJEcocC",
        "outputId": "e3fc3383-0c15-4347-8a9e-c224438f8663"
      },
      "outputs": [
        {
          "output_type": "execute_result",
          "data": {
            "text/plain": [
              "array([-3,  7])"
            ]
          },
          "metadata": {},
          "execution_count": 7
        }
      ],
      "source": [
        "a2=A[:,1] # Chọn cột thứ hai của ma trận A và gán cho a2\n",
        "a2 # Hiển thị a2"
      ]
    },
    {
      "cell_type": "markdown",
      "metadata": {
        "id": "_RwB9nYjcocC"
      },
      "source": [
        "Denoted by $A^{T}$, the transpose of a matrix  switches the row and column indices of the matrix, in numpy we can determine the transpose of $A$ as follows:\n"
      ]
    },
    {
      "cell_type": "code",
      "execution_count": 8,
      "metadata": {
        "colab": {
          "base_uri": "https://localhost:8080/",
          "height": 58
        },
        "id": "EgCsCffrcocC",
        "outputId": "e4e0fe2b-2266-4f97-e5ee-e8c85453cdab"
      },
      "outputs": [
        {
          "output_type": "execute_result",
          "data": {
            "text/plain": [
              "⎡2   4⎤\n",
              "⎢     ⎥\n",
              "⎣-3  7⎦"
            ],
            "text/latex": "$\\displaystyle \\left[\\begin{matrix}2 & 4\\\\-3 & 7\\end{matrix}\\right]$"
          },
          "metadata": {},
          "execution_count": 8
        }
      ],
      "source": [
        "AT=A.T # Tính ma trận chuyển vị của A và gán cho AT\n",
        "Matrix(AT) # Hiển thị ma trận AT bằng SymPy"
      ]
    },
    {
      "cell_type": "markdown",
      "metadata": {
        "id": "bXUqp8wccocC"
      },
      "source": [
        "### Rank of a Matrix\n"
      ]
    },
    {
      "cell_type": "markdown",
      "metadata": {
        "id": "tGpZ0I8hcocC"
      },
      "source": [
        "The rank of a matrix is the number of dimension the rows of the matrix \"live in\".  You can verify the Matrix truly behaves like a  square matrix if it's <a href='https://en.wikipedia.org/wiki/Rank_(linear_algebra)?utm_medium=Exinfluencer&utm_source=Exinfluencer&utm_content=000026UJ&utm_term=10006555&utm_id=NA-SkillsNetwork-Channel-SkillsNetworkCoursesIBMML0187ENSkillsNetwork31430127-2022-01-01'>rank</a> is equal to the number of rows or columns, then it is referred to as **full rank**.\n"
      ]
    },
    {
      "cell_type": "code",
      "execution_count": 9,
      "metadata": {
        "colab": {
          "base_uri": "https://localhost:8080/"
        },
        "id": "9uvv2TUFcocC",
        "outputId": "1c4d807e-1f3d-4621-d41c-ed779be949fd"
      },
      "outputs": [
        {
          "output_type": "execute_result",
          "data": {
            "text/plain": [
              "np.int64(2)"
            ]
          },
          "metadata": {},
          "execution_count": 9
        }
      ],
      "source": [
        "matrix_rank(A) # Tính hạng của ma trận A"
      ]
    },
    {
      "cell_type": "markdown",
      "metadata": {
        "id": "upe2jQeAcocC"
      },
      "source": [
        "We can plot the columns of $A$ as vectors.\n"
      ]
    },
    {
      "cell_type": "code",
      "execution_count": 10,
      "metadata": {
        "colab": {
          "base_uri": "https://localhost:8080/",
          "height": 622
        },
        "id": "JEpMNY7ucocC",
        "outputId": "192387b2-5b59-44ef-f0a6-f8f9a1baf1b4"
      },
      "outputs": [
        {
          "output_type": "display_data",
          "data": {
            "text/plain": [
              "<Figure size 1200x700 with 1 Axes>"
            ],
            "image/png": "[encoded data removed]"
          },
          "metadata": {}
        }
      ],
      "source": [
        "fig, ax = plt.subplots(figsize = (12, 7)) # Tạo figure và axes cho biểu đồ\n",
        "\n",
        "ax.quiver([0, 0],[0, 0],A[0,0], A[1,0],scale=30,label=\"$a_{1}$\") # Vẽ vector a1\n",
        "ax.quiver([0, 0],[0, 0],A[0,1], A[1,1],scale=30,label=\"$a_{2}$\") # Vẽ vector a2\n",
        "plt.title(\"columns of $A$ \") # Đặt tiêu đề cho biểu đồ\n",
        "plt.legend() # Hiển thị chú giải\n",
        "plt.show() # Hiển thị biểu đồ"
      ]
    },
    {
      "cell_type": "markdown",
      "metadata": {
        "id": "SVEkO3p8cocC"
      },
      "source": [
        "As the vectors are not parallel, we can define any point on the 2d space as a scaled  combination of those two vectors.\n",
        "\n",
        "If any of the columns in a matrix  are multiples of each other, the vectors point in the same direction and the matrix is not full rank.\n"
      ]
    },
    {
      "cell_type": "code",
      "execution_count": 11,
      "metadata": {
        "colab": {
          "base_uri": "https://localhost:8080/"
        },
        "id": "607ophqlcocC",
        "outputId": "0cbc9dea-81a2-482b-f1a9-01600efda4f5"
      },
      "outputs": [
        {
          "output_type": "execute_result",
          "data": {
            "text/plain": [
              "np.int64(1)"
            ]
          },
          "metadata": {},
          "execution_count": 11
        }
      ],
      "source": [
        "F=np.array([[2,4],[4,8]]) # Tạo ma trận F\n",
        "matrix_rank(F) # Tính hạng của ma trận F"
      ]
    },
    {
      "cell_type": "markdown",
      "metadata": {
        "id": "TlmyU37ucocC"
      },
      "source": [
        "We see the columns are pointing  in the same direction\n"
      ]
    },
    {
      "cell_type": "code",
      "execution_count": 12,
      "metadata": {
        "colab": {
          "base_uri": "https://localhost:8080/",
          "height": 622
        },
        "id": "E_5Ktl79cocC",
        "outputId": "a6aa4300-1fc7-4547-84d5-f67a031b8411"
      },
      "outputs": [
        {
          "output_type": "display_data",
          "data": {
            "text/plain": [
              "<Figure size 1200x700 with 1 Axes>"
            ],
            "image/png": "[encoded data removed]"
          },
          "metadata": {}
        }
      ],
      "source": [
        "fig, ax = plt.subplots(figsize = (12, 7)) # Tạo figure và axes cho biểu đồ\n",
        "ax.quiver([0, 0],[0, 0],F[0,1], F[1,1],scale=30,label=\"$f_{2}$\",color='red') # Vẽ vector f2 (cột thứ 2 của F)\n",
        "ax.quiver([0, 0],[0, 0],F[0,0], F[1,0],scale=30,label=\"$f_{1}$\") # Vẽ vector f1 (cột đầu tiên của F)\n",
        "plt.title(\"columns of $F$ \") # Đặt tiêu đề cho biểu đồ\n",
        "plt.legend() # Hiển thị chú giải\n",
        "plt.show() # Hiển thị biểu đồ"
      ]
    },
    {
      "cell_type": "markdown",
      "metadata": {
        "id": "4IzuOLTKcocC"
      },
      "source": [
        "A common occurance is a matrix with more columns than rows, but in data, more rows than columns is more common. Consider the matrix $F$.\n"
      ]
    },
    {
      "cell_type": "code",
      "execution_count": 13,
      "metadata": {
        "colab": {
          "base_uri": "https://localhost:8080/",
          "height": 78
        },
        "id": "4qMsjfjdcocC",
        "outputId": "f3574735-60d5-45ca-b0ad-d4a4f9142dfe"
      },
      "outputs": [
        {
          "output_type": "execute_result",
          "data": {
            "text/plain": [
              "⎡1   2 ⎤\n",
              "⎢      ⎥\n",
              "⎢1   -2⎥\n",
              "⎢      ⎥\n",
              "⎣-1  1 ⎦"
            ],
            "text/latex": "$\\displaystyle \\left[\\begin{matrix}1 & 2\\\\1 & -2\\\\-1 & 1\\end{matrix}\\right]$"
          },
          "metadata": {},
          "execution_count": 13
        }
      ],
      "source": [
        "F=np.array([[1,2],[1,-2],[-1,1]]) # Tạo ma trận F với kích thước 3x2\n",
        "Matrix(F) # Hiển thị ma trận F bằng SymPy"
      ]
    },
    {
      "cell_type": "markdown",
      "metadata": {
        "id": "SC3sHQcZcocC"
      },
      "source": [
        "Although, the rows of matrix $F$ are 3 dimensions, you can only describe the point lying in the 2D plane, as shown here:\n"
      ]
    },
    {
      "cell_type": "code",
      "execution_count": 14,
      "metadata": {
        "colab": {
          "base_uri": "https://localhost:8080/",
          "height": 420
        },
        "id": "uJIZNEvacocG",
        "outputId": "5bfae022-6e54-42f8-abda-9ea44e1dec7a"
      },
      "outputs": [
        {
          "output_type": "display_data",
          "data": {
            "text/plain": [
              "<Figure size 640x480 with 1 Axes>"
            ],
            "image/png": "[encoded data removed]"
          },
          "metadata": {}
        }
      ],
      "source": [
        "ax = plt.figure().add_subplot(projection='3d') # Tạo figure và subplot 3D\n",
        "p=null_space(F.T) # Tính không gian rỗng của ma trận chuyển vị của F\n",
        "xx, yy = np.meshgrid(np.arange(-3,3,0.1), np.arange(-3,3,0.1)) # Tạo lưới tọa độ cho mặt phẳng\n",
        "z=(p[0]*xx+p[1]*yy)/p[2] # Tính giá trị z dựa trên không gian rỗng để tạo mặt phẳng\n",
        "ax.plot_surface(xx, yy, z, alpha=0.1) # Vẽ mặt phẳng\n",
        "ax.quiver([0,0], [0,0], [0,0], F[0,:], F[1,:], F[2,:]) # Vẽ các vector cột của F\n",
        "\n",
        "ax.set_xlim([-3, 3]) # Đặt giới hạn trục x\n",
        "ax.set_ylim([-3, 3]) # Đặt giới hạn trục y\n",
        "ax.set_zlim([-3, 3]) # Đặt giới hạn trục z\n",
        "plt.show() # Hiển thị biểu đồ"
      ]
    },
    {
      "cell_type": "markdown",
      "metadata": {
        "id": "WW1hpC_ucocG"
      },
      "source": [
        "Therefore, the rank is 2.\n"
      ]
    },
    {
      "cell_type": "code",
      "execution_count": 15,
      "metadata": {
        "colab": {
          "base_uri": "https://localhost:8080/"
        },
        "id": "7SEfWtQJcocG",
        "outputId": "32787cce-d6f9-4c37-c53b-b6c2eb0050de"
      },
      "outputs": [
        {
          "output_type": "execute_result",
          "data": {
            "text/plain": [
              "np.int64(2)"
            ]
          },
          "metadata": {},
          "execution_count": 15
        }
      ],
      "source": [
        "matrix_rank(F) # Tính hạng của ma trận F"
      ]
    },
    {
      "cell_type": "markdown",
      "metadata": {
        "id": "tV7CxD-lcocH"
      },
      "source": [
        "### Frobenius Norm of a Matrix\n"
      ]
    },
    {
      "cell_type": "markdown",
      "metadata": {
        "id": "L0EqlSjwcocH"
      },
      "source": [
        "The Frobenius norm, sometimes also called the **Euclidean norm**, is the matrix norm of an $m×n$. Matrix A is defined as the square root of the sum of the absolute squares of its elements:\n",
        "\n",
        "$$|A| *F = \\sqrt{\\sum*{i=1}^m \\sum\\_{j=1}^n |a\\_{ij}|^2}$$\n",
        "\n",
        "Let's use the matrix A again as an example:\n"
      ]
    },
    {
      "cell_type": "code",
      "execution_count": 16,
      "metadata": {
        "colab": {
          "base_uri": "https://localhost:8080/",
          "height": 58
        },
        "id": "f8NXv8ebcocH",
        "outputId": "3ccc3ade-e4e6-4a29-ed4e-7c97ed43ff67"
      },
      "outputs": [
        {
          "output_type": "execute_result",
          "data": {
            "text/plain": [
              "⎛⎡2  -3⎤                   ⎞\n",
              "⎜⎢     ⎥, 8.831760866327848⎟\n",
              "⎝⎣4  7 ⎦                   ⎠"
            ],
            "text/latex": "$\\displaystyle \\left( \\left[\\begin{matrix}2 & -3\\\\4 & 7\\end{matrix}\\right], \\  8.83176086632785\\right)$"
          },
          "metadata": {},
          "execution_count": 16
        }
      ],
      "source": [
        "Matrix(A), norm(A) # Hiển thị ma trận A bằng SymPy và tính Frobenius norm của A"
      ]
    },
    {
      "cell_type": "markdown",
      "metadata": {
        "id": "-m-sSr8xcocH"
      },
      "source": [
        "You could also calculate the matrix norm manually, using the formula provided above, and confirm that the results are the same.\n"
      ]
    },
    {
      "cell_type": "code",
      "execution_count": 17,
      "metadata": {
        "colab": {
          "base_uri": "https://localhost:8080/",
          "height": 37
        },
        "id": "ga5yFp_6cocH",
        "outputId": "1f4d4173-3ac0-46be-e188-7a7cd7b87d49"
      },
      "outputs": [
        {
          "output_type": "execute_result",
          "data": {
            "text/plain": [
              "np.float64(8.831760866327848)"
            ],
            "text/latex": "$\\displaystyle 8.83176086632785$"
          },
          "metadata": {},
          "execution_count": 17
        }
      ],
      "source": [
        "m, n = A.shape[0], A.shape[1] # Lấy số hàng (m) và số cột (n) của ma trận A\n",
        "ss = 0 # Khởi tạo biến ss bằng 0\n",
        "\n",
        "for i in range(m): # Lặp qua các hàng\n",
        "    for j in range(n): # Lặp qua các cột\n",
        "        ss += A[i,j] ** 2 # Cộng bình phương của từng phần tử vào ss\n",
        "np.sqrt(ss) # Tính căn bậc hai của ss (Frobenius norm)"
      ]
    },
    {
      "cell_type": "markdown",
      "metadata": {
        "id": "K5PRSDL7cocH"
      },
      "source": [
        "### Matrix Addition\n"
      ]
    },
    {
      "cell_type": "markdown",
      "metadata": {
        "id": "h9wi_8S5cocH"
      },
      "source": [
        "Consider matrix $B$:\n"
      ]
    },
    {
      "cell_type": "code",
      "execution_count": 18,
      "metadata": {
        "colab": {
          "base_uri": "https://localhost:8080/",
          "height": 58
        },
        "id": "1XBldGHucocH",
        "outputId": "42a2f3ba-8f2e-4ee7-9fd5-18a91cdd67af"
      },
      "outputs": [
        {
          "output_type": "execute_result",
          "data": {
            "text/plain": [
              "⎡1  1 ⎤\n",
              "⎢     ⎥\n",
              "⎣1  -1⎦"
            ],
            "text/latex": "$\\displaystyle \\left[\\begin{matrix}1 & 1\\\\1 & -1\\end{matrix}\\right]$"
          },
          "metadata": {},
          "execution_count": 18
        }
      ],
      "source": [
        "B=np.array([[1,1],[1,-1]]) # Tạo ma trận B\n",
        "Matrix(B) # Hiển thị ma trận B bằng SymPy"
      ]
    },
    {
      "cell_type": "markdown",
      "metadata": {
        "id": "ucAa-DUkcocH"
      },
      "source": [
        "In general, if we have matrix $\\mathbf{A}$ and matrix $\\mathbf{B}$\n"
      ]
    },
    {
      "cell_type": "markdown",
      "metadata": {
        "id": "R7T98ONmcocI"
      },
      "source": [
        "$\\begin{align}\n",
        "\\mathbf{A}= \\begin{bmatrix}\n",
        "a\\_{11} & a\\_{12} & \\cdots & a\\_{1n} \\\\\\\\\\\\\n",
        "a\\_{21} & a\\_{22} & \\cdots & a\\_{2n} \\\\\\\\\\\\\n",
        "\\vdots & \\vdots & \\ddots & \\vdots \\\\\\\\\\\\\n",
        "a\\_{m1} & a\\_{m2} & \\cdots & a\\_{mn} \\\\\\\\\\\\\n",
        "\\end{bmatrix}\n",
        "\\end{align}$\n",
        "$\\begin{align}\n",
        "\\mathbf{B}=\\begin{bmatrix}\n",
        "b\\_{11} & b\\_{12} & \\cdots & b\\_{1n} \\\\\\\\\\\\\n",
        "b\\_{21} & b\\_{22} & \\cdots & b\\_{2n} \\\\\\\\\\\\\n",
        "\\vdots & \\vdots & \\ddots & \\vdots \\\\\\\\\\\\\n",
        "b\\_{m1} & b\\_{m2} & \\cdots & b\\_{mn} \\\\\\\\\\\\\n",
        "\\end{bmatrix}\n",
        "\\end{align}$\n"
      ]
    },
    {
      "cell_type": "markdown",
      "metadata": {
        "id": "ZT6v7okccocI"
      },
      "source": [
        "To be added, the two matrices must have an equal number of rows and columns, where we add the corresponding row and column element:\n"
      ]
    },
    {
      "cell_type": "markdown",
      "metadata": {
        "id": "BxYpKr5CcocI"
      },
      "source": [
        "$\\begin{align}\n",
        "\\mathbf{A}+\\mathbf{B}=\\begin{bmatrix}\n",
        "a\\_{11} + b\\_{11} & a\\_{12} + b\\_{12} & \\cdots & a\\_{1n} + b\\_{1n} \\\\\\\\\\\\\n",
        "a\\_{21} + b\\_{21} & a\\_{22} + b\\_{22} & \\cdots & a\\_{2n} + b\\_{2n} \\\\\\\\\\\\\n",
        "\\vdots & \\vdots & \\ddots & \\vdots \\\\\\\\\\\\\n",
        "a\\_{m1} + b\\_{m1} & a\\_{m2} + b\\_{m2} & \\cdots & a\\_{mn} + b\\_{mn} \\\\\\\\\\\\\n",
        "\\end{bmatrix}\n",
        "\\end{align}$\n"
      ]
    },
    {
      "cell_type": "markdown",
      "metadata": {
        "id": "RNDundqfcocI"
      },
      "source": [
        "In numpy, we can add two arrays as follows:\n"
      ]
    },
    {
      "cell_type": "code",
      "execution_count": 19,
      "metadata": {
        "colab": {
          "base_uri": "https://localhost:8080/",
          "height": 58
        },
        "id": "HdXwsr9QcocI",
        "outputId": "1579a018-1fb0-4eff-fea5-a9eb83a9596f"
      },
      "outputs": [
        {
          "output_type": "execute_result",
          "data": {
            "text/plain": [
              "⎡3  -2⎤\n",
              "⎢     ⎥\n",
              "⎣5  6 ⎦"
            ],
            "text/latex": "$\\displaystyle \\left[\\begin{matrix}3 & -2\\\\5 & 6\\end{matrix}\\right]$"
          },
          "metadata": {},
          "execution_count": 19
        }
      ],
      "source": [
        "C=A+B # Cộng hai ma trận A và B, gán cho C\n",
        "Matrix(C) # Hiển thị ma trận C bằng SymPy"
      ]
    },
    {
      "cell_type": "markdown",
      "metadata": {
        "id": "XYHX0I1acocJ"
      },
      "source": [
        "This matrix is symmetric. This means $B=B^{T}$, we can verify this in Python:\n"
      ]
    },
    {
      "cell_type": "code",
      "execution_count": 20,
      "metadata": {
        "colab": {
          "base_uri": "https://localhost:8080/",
          "height": 58
        },
        "id": "jKzM_8OrcocJ",
        "outputId": "a0b6e66a-5eb8-415b-bc1c-94dce7b0ddd5"
      },
      "outputs": [
        {
          "output_type": "execute_result",
          "data": {
            "text/plain": [
              "⎡1  1 ⎤\n",
              "⎢     ⎥\n",
              "⎣1  -1⎦"
            ],
            "text/latex": "$\\displaystyle \\left[\\begin{matrix}1 & 1\\\\1 & -1\\end{matrix}\\right]$"
          },
          "metadata": {},
          "execution_count": 20
        }
      ],
      "source": [
        "B_T=B.T # Tính ma trận chuyển vị của B và gán cho B_T\n",
        "Matrix(B_T) # Hiển thị ma trận B_T bằng SymPy"
      ]
    },
    {
      "cell_type": "markdown",
      "metadata": {
        "id": "0CLo22CPcocJ"
      },
      "source": [
        "Arbitrary semantic matrix $S=C+C^T$, where $C$ is any matrix.\n"
      ]
    },
    {
      "cell_type": "code",
      "execution_count": 21,
      "metadata": {
        "id": "lO1tK6YNcocJ"
      },
      "outputs": [],
      "source": [
        "C=np.random.randn(2,2) # Tạo ma trận C ngẫu nhiên với kích thước 2x2\n",
        "S=C+C.T # Tạo ma trận đối xứng S bằng cách cộng C với ma trận chuyển vị của nó"
      ]
    },
    {
      "cell_type": "code",
      "execution_count": 22,
      "metadata": {
        "colab": {
          "base_uri": "https://localhost:8080/",
          "height": 58
        },
        "id": "O6LDhw6BcocK",
        "outputId": "8144d8c0-fbcc-4aed-f355-58fa73222237"
      },
      "outputs": [
        {
          "output_type": "execute_result",
          "data": {
            "text/plain": [
              "⎡-0.149790853499568  -0.319765594162407⎤\n",
              "⎢                                      ⎥\n",
              "⎣-0.319765594162407  -0.548917323489373⎦"
            ],
            "text/latex": "$\\displaystyle \\left[\\begin{matrix}-0.149790853499568 & -0.319765594162407\\\\-0.319765594162407 & -0.548917323489373\\end{matrix}\\right]$"
          },
          "metadata": {},
          "execution_count": 22
        }
      ],
      "source": [
        "Matrix(S) # Hiển thị ma trận S bằng SymPy"
      ]
    },
    {
      "cell_type": "code",
      "execution_count": 23,
      "metadata": {
        "colab": {
          "base_uri": "https://localhost:8080/",
          "height": 58
        },
        "id": "4tqP4YL8cocK",
        "outputId": "db54f53c-2ec6-41e0-d95c-daea21c9e3b5"
      },
      "outputs": [
        {
          "output_type": "execute_result",
          "data": {
            "text/plain": [
              "⎡-0.149790853499568  -0.319765594162407⎤\n",
              "⎢                                      ⎥\n",
              "⎣-0.319765594162407  -0.548917323489373⎦"
            ],
            "text/latex": "$\\displaystyle \\left[\\begin{matrix}-0.149790853499568 & -0.319765594162407\\\\-0.319765594162407 & -0.548917323489373\\end{matrix}\\right]$"
          },
          "metadata": {},
          "execution_count": 23
        }
      ],
      "source": [
        "Matrix(S.T) # Hiển thị ma trận chuyển vị của S bằng SymPy"
      ]
    },
    {
      "cell_type": "markdown",
      "metadata": {
        "id": "EWAcXtgJcocK"
      },
      "source": [
        "<b>Diagonal matrix</b> is a matrix in which the entries outside of the main diagonal are all zero.\n"
      ]
    },
    {
      "cell_type": "code",
      "execution_count": 24,
      "metadata": {
        "colab": {
          "base_uri": "https://localhost:8080/",
          "height": 78
        },
        "id": "OVrULjuzcocK",
        "outputId": "6008ee85-2e0a-4739-ac93-527694ca980a"
      },
      "outputs": [
        {
          "output_type": "execute_result",
          "data": {
            "text/plain": [
              "⎡1  0  0⎤\n",
              "⎢       ⎥\n",
              "⎢0  2  0⎥\n",
              "⎢       ⎥\n",
              "⎣0  0  3⎦"
            ],
            "text/latex": "$\\displaystyle \\left[\\begin{matrix}1 & 0 & 0\\\\0 & 2 & 0\\\\0 & 0 & 3\\end{matrix}\\right]$"
          },
          "metadata": {},
          "execution_count": 24
        }
      ],
      "source": [
        "Matrix(np.diag(np.array([1,2,3]))) # Tạo ma trận đường chéo với các phần tử 1, 2, 3 trên đường chéo chính và hiển thị bằng SymPy"
      ]
    },
    {
      "cell_type": "markdown",
      "metadata": {
        "id": "GyUyOTHccocK"
      },
      "source": [
        "If the main diagonal is one, it's called a identity matrix in numpy.\n"
      ]
    },
    {
      "cell_type": "code",
      "execution_count": 25,
      "metadata": {
        "colab": {
          "base_uri": "https://localhost:8080/",
          "height": 78
        },
        "id": "aoMYFs4_cocK",
        "outputId": "cd826a4e-7a3b-48d8-bfa0-bae2eb26d344"
      },
      "outputs": [
        {
          "output_type": "execute_result",
          "data": {
            "text/plain": [
              "⎡1.0  0.0  0.0⎤\n",
              "⎢             ⎥\n",
              "⎢0.0  1.0  0.0⎥\n",
              "⎢             ⎥\n",
              "⎣0.0  0.0  1.0⎦"
            ],
            "text/latex": "$\\displaystyle \\left[\\begin{matrix}1.0 & 0.0 & 0.0\\\\0.0 & 1.0 & 0.0\\\\0.0 & 0.0 & 1.0\\end{matrix}\\right]$"
          },
          "metadata": {},
          "execution_count": 25
        }
      ],
      "source": [
        "Matrix(np.eye(3)) # Tạo ma trận đơn vị kích thước 3x3 và hiển thị bằng SymPy"
      ]
    },
    {
      "cell_type": "markdown",
      "metadata": {
        "id": "THonDtHVcocK"
      },
      "source": [
        "## Matrix and Vector Multiplication\n"
      ]
    },
    {
      "cell_type": "markdown",
      "metadata": {
        "id": "Y2YZ1uJscocM"
      },
      "source": [
        "### Dot-Product\n"
      ]
    },
    {
      "cell_type": "markdown",
      "metadata": {
        "id": "JK7PUbNLcocM"
      },
      "source": [
        "We can define a vector as a one dimensional array of $\\mathbf{a}$ and $\\mathbf{b}$, and we can find the dot product of the two as follows:\n"
      ]
    },
    {
      "cell_type": "markdown",
      "metadata": {
        "id": "UpmngiXMcocM"
      },
      "source": [
        "$ a^T  b = \\sum\\_{i=1}^n a_i b_i = a\\_1 b\\_1 + \\cdots + a_n b_n$\n"
      ]
    },
    {
      "cell_type": "markdown",
      "metadata": {
        "id": "tXt1NPfEcocM"
      },
      "source": [
        "Where  $\\mathbf{a}$ and  $\\mathbf{b}$ have the same length, in numpy:\n"
      ]
    },
    {
      "cell_type": "code",
      "execution_count": 26,
      "metadata": {
        "id": "d_-PMcIpcocM"
      },
      "outputs": [],
      "source": [
        "a=np.array([1,1]) # Tạo vector a\n",
        "b=np.array([1,2]) # Tạo vector b"
      ]
    },
    {
      "cell_type": "markdown",
      "metadata": {
        "id": "CQsD6wEfcocN"
      },
      "source": [
        "We can verify that the dimension is one.\n"
      ]
    },
    {
      "cell_type": "code",
      "execution_count": 27,
      "metadata": {
        "colab": {
          "base_uri": "https://localhost:8080/",
          "height": 37
        },
        "id": "3onnVaqTcocN",
        "outputId": "2a59f26c-bff5-4f15-aa04-4db0e374b7b3"
      },
      "outputs": [
        {
          "output_type": "execute_result",
          "data": {
            "text/plain": [
              "1"
            ],
            "text/latex": "$\\displaystyle 1$"
          },
          "metadata": {},
          "execution_count": 27
        }
      ],
      "source": [
        "a.ndim # Kiểm tra số chiều của vector a"
      ]
    },
    {
      "cell_type": "markdown",
      "metadata": {
        "id": "BYsMrNC7cocN"
      },
      "source": [
        "Find the dot product\n"
      ]
    },
    {
      "cell_type": "code",
      "execution_count": 28,
      "metadata": {
        "colab": {
          "base_uri": "https://localhost:8080/"
        },
        "id": "KRVfTL0ococN",
        "outputId": "bb014e62-b186-48a4-e496-929a34e802eb"
      },
      "outputs": [
        {
          "output_type": "execute_result",
          "data": {
            "text/plain": [
              "np.int64(3)"
            ]
          },
          "metadata": {},
          "execution_count": 28
        }
      ],
      "source": [
        "a@b # Tính tích vô hướng của vector a và b"
      ]
    },
    {
      "cell_type": "markdown",
      "metadata": {
        "id": "3JZLrIuTcocN"
      },
      "source": [
        "If the array is 2- dimension, the order matters. $a^{T}$ must be a row vector of shape $1xm$ and $b$ a column vector of shape $mx1$.\n"
      ]
    },
    {
      "cell_type": "markdown",
      "metadata": {
        "id": "MkGar27bcocN"
      },
      "source": [
        "$a^{T} = \\begin{bmatrix}\n",
        "a\\_{1},a\\_{2},..,a\\_{n}\n",
        "\\end{bmatrix}$\n",
        "\n",
        "$b = \\begin{bmatrix}\n",
        "b\\_{1} \\\\\\\\\\\\\n",
        "b\\_{2} \\\\\\\\\\\\\n",
        "\\vdots \\\\\\\\\\\\\n",
        "b\\_{n}\n",
        "\\end{bmatrix}$\n"
      ]
    },
    {
      "cell_type": "code",
      "execution_count": 29,
      "metadata": {
        "colab": {
          "base_uri": "https://localhost:8080/"
        },
        "id": "kBg8R1NOcocO",
        "outputId": "9ff473e6-72eb-4bf5-933c-f5e80dc38ac7"
      },
      "outputs": [
        {
          "output_type": "execute_result",
          "data": {
            "text/plain": [
              "array([[3]])"
            ]
          },
          "metadata": {},
          "execution_count": 29
        }
      ],
      "source": [
        "a=np.array([[1],[1]]) # Tạo vector cột a\n",
        "b=np.array([[1],[2]]) # Tạo vector cột b\n",
        "a.T@b # Tính tích vô hướng của a^T và b (a^T là vector hàng)"
      ]
    },
    {
      "cell_type": "markdown",
      "metadata": {
        "id": "FGj59ZC-cocO"
      },
      "source": [
        "### Exercise 1\n",
        "\n",
        "Calculate the dot product of $a$ and $one$.\n"
      ]
    },
    {
      "cell_type": "code",
      "execution_count": 30,
      "metadata": {
        "id": "RWpXXDrXcocO"
      },
      "outputs": [],
      "source": [
        "one=np.ones(2) # Tạo vector one với hai phần tử là 1\n",
        "\n",
        "# TO DO\n",
        "# Tính tích vô hướng của a và one"
      ]
    },
    {
      "cell_type": "markdown",
      "metadata": {
        "id": "QE5gEPkgcocO"
      },
      "source": [
        "<details>\n",
        "    <summary>Click here for Solution</summary>\n",
        "\n",
        "```python\n",
        "a.T@one\n",
        "```\n",
        "\n",
        "</details>\n"
      ]
    },
    {
      "cell_type": "markdown",
      "metadata": {
        "id": "MaWMeJlUcocO"
      },
      "source": [
        "### The Outer product\n"
      ]
    },
    {
      "cell_type": "markdown",
      "metadata": {
        "id": "y1Qb1e9jcocO"
      },
      "source": [
        "The outer product is another useful matrix operation. Consider the matrix or vector $ \\mathbf{u}$ of size $nx1$ and matrix or vector $\\mathbf{v}$ $1xm$. Then their outer product is:\n"
      ]
    },
    {
      "cell_type": "markdown",
      "metadata": {
        "id": "AO-uyqEEcocO"
      },
      "source": [
        "$\n",
        "\\mathbf{u} \\otimes \\mathbf{v} = \\mathbf{u}\\mathbf{v}^\\textsf{T} =\n",
        "\\begin{bmatrix}u\\_1 \\\\\\\\\\ u\\_2 \\ \\vdots\\ u_n\\end{bmatrix}\n",
        "\\begin{bmatrix}v\\_1 & .. & v_m\\end{bmatrix} =\n",
        "\\begin{bmatrix}\n",
        "u\\_1 v\\_1 & .. & u\\_1 v_m\\\\\\\\\\\\\n",
        "u\\_2 v\\_1 & u\\_2 v\\_2 & u\\_2 v\\_3 \\\\\\\\\\\\\n",
        "\\vdots   & \\ddots & \\vdots \\\\\\\\\\\\\n",
        "u_n v\\_1 &  .. & u_n v_m\n",
        "\\end{bmatrix}.\n",
        "$\n"
      ]
    },
    {
      "cell_type": "markdown",
      "metadata": {
        "id": "43uZ7D2pcocO"
      },
      "source": [
        "We can perform the outer product in numpy as follows\n"
      ]
    },
    {
      "cell_type": "code",
      "execution_count": 31,
      "metadata": {
        "id": "6uuMy3N3cocO"
      },
      "outputs": [],
      "source": [
        "u= np.array([[1],[2],[3],[4]]) # Tạo vector cột u\n",
        "v= np.array([[0],[1],[2],[3],[6]]) # Tạo vector cột v\n",
        "# TO DO\n",
        "# Tính tích ngoài của u và v.T"
      ]
    },
    {
      "cell_type": "markdown",
      "metadata": {
        "id": "HsZcy_tYcocO"
      },
      "source": [
        "<details>\n",
        "    <summary>Click here for Solution</summary>\n",
        "\n",
        "```python\n",
        "Matrix(u@v.T)\n",
        "```\n",
        "\n",
        "</details>\n"
      ]
    },
    {
      "cell_type": "markdown",
      "metadata": {
        "id": "WMygc7u1cocO"
      },
      "source": [
        "### Exercise 2\n",
        "\n",
        "Create a matrix with 4 columns where each even column is  the vector  `u`  or else it is  zero, show the rank is one:\n"
      ]
    },
    {
      "cell_type": "code",
      "execution_count": 32,
      "metadata": {
        "id": "b8lctoQGcocO"
      },
      "outputs": [],
      "source": [
        "u=np.array([[1],[2]]) # Tạo vector cột u\n",
        "# TO DO\n",
        "# Tạo ma trận với 4 cột, cột chẵn là u, cột lẻ là 0"
      ]
    },
    {
      "cell_type": "markdown",
      "metadata": {
        "id": "imc2sDtecocO"
      },
      "source": [
        "<details>\n",
        "    <summary>Click here for Solution</summary>\n",
        "\n",
        "```python\n",
        "Matrix(u@np.array([[0,1,0,1]]))\n",
        "```\n",
        "\n",
        "</details>\n"
      ]
    },
    {
      "cell_type": "markdown",
      "metadata": {
        "id": "Yul4ydKXcocP"
      },
      "source": [
        "### Matrix and Vector Multiplication\n"
      ]
    },
    {
      "cell_type": "markdown",
      "metadata": {
        "id": "9ewUwWe-cocP"
      },
      "source": [
        "We can also multiply a matrix by a vector and get a new vector. Consider the vector $\\mathbf{x}$:\n"
      ]
    },
    {
      "cell_type": "markdown",
      "metadata": {
        "id": "6otekOAGcocP"
      },
      "source": [
        "$\n",
        "\\mathbf{x}=\n",
        "\\begin{bmatrix}\n",
        "x\\_1 \\\\\\\\\\\\\n",
        "x\\_2 \\\\\\\\\\\\\n",
        "\\vdots \\\\\\\\\\\\\n",
        "x_n\n",
        "\\end{bmatrix}\n",
        "$\n"
      ]
    },
    {
      "cell_type": "markdown",
      "metadata": {
        "id": "4r6rbcyPcocP"
      },
      "source": [
        "The following  $\\mathbf{Ax}=\\mathbf b$  matrix multiplication  is defined as the dot product  $\\mathbf{x}$ with each row of $\\mathbf{A}$ :\n"
      ]
    },
    {
      "cell_type": "markdown",
      "metadata": {
        "id": "s0zH8YbCcocP"
      },
      "source": [
        "$\n",
        "\\begin{matrix}a\\_{11}x\\_1+\\cdots + a\\_{1n}x_n=b\\_1\n",
        "\\\\\\\\\\ a\\_{21}x\\_1+\\cdots + a\\_{2n}x_n =b\\_2\n",
        "\\\\\\\\\\ \\vdots\n",
        "\\\\\\\\\\ a\\_{m1}x\\_1+\\cdots + a\\_{mn}x_n =b_m\\end{matrix}\n",
        "$\n"
      ]
    },
    {
      "cell_type": "markdown",
      "metadata": {
        "id": "k9-vc6H6cocP"
      },
      "source": [
        "Where ,\n"
      ]
    },
    {
      "cell_type": "markdown",
      "metadata": {
        "id": "bokUuVnlcocP"
      },
      "source": [
        "$\n",
        "\\mathbf{b}=\n",
        "\\begin{bmatrix}\n",
        "b\\_1 \\\\\\\\\\\\\n",
        "b\\_2 \\\\\\\\\\\\\n",
        "\\vdots \\\\\\\\\\\\\n",
        "b_m\n",
        "\\end{bmatrix}\n",
        "$\n"
      ]
    },
    {
      "cell_type": "markdown",
      "metadata": {
        "id": "6wtrvuktcocP"
      },
      "source": [
        "In numpy:\n"
      ]
    },
    {
      "cell_type": "code",
      "execution_count": 33,
      "metadata": {
        "id": "vTYpUkTKcocP"
      },
      "outputs": [],
      "source": [
        "x=np.array([1,1]) # Tạo vector x"
      ]
    },
    {
      "cell_type": "code",
      "execution_count": 34,
      "metadata": {
        "id": "ZFywiX0rcocP"
      },
      "outputs": [],
      "source": [
        "A=np.array([[-1,1],[1,2]]) # Tạo ma trận A"
      ]
    },
    {
      "cell_type": "code",
      "execution_count": 35,
      "metadata": {
        "colab": {
          "base_uri": "https://localhost:8080/",
          "height": 58
        },
        "id": "1bubvc04cocP",
        "outputId": "0f1662bd-3c87-4134-ecb1-46d5357c7d67"
      },
      "outputs": [
        {
          "output_type": "execute_result",
          "data": {
            "text/plain": [
              "⎡0⎤\n",
              "⎢ ⎥\n",
              "⎣3⎦"
            ],
            "text/latex": "$\\displaystyle \\left[\\begin{matrix}0\\\\3\\end{matrix}\\right]$"
          },
          "metadata": {},
          "execution_count": 35
        }
      ],
      "source": [
        "b=A@x # Nhân ma trận A với vector x, gán cho b\n",
        "Matrix(b) # Hiển thị vector b bằng SymPy"
      ]
    },
    {
      "cell_type": "markdown",
      "metadata": {
        "id": "iCxuxW45cocP"
      },
      "source": [
        "We can see that $b$ is a combination of the rows of $A$:\n",
        "\n",
        "$\\mathbf{b}=x\\_{1}\\mathbf{a}*{1}+\\mathbf{x}*{2}a\\_{2}$ or $\\mathbf{b}$ is a rotation of  $\\mathbf{x}$\n"
      ]
    },
    {
      "cell_type": "code",
      "execution_count": 36,
      "metadata": {
        "colab": {
          "base_uri": "https://localhost:8080/",
          "height": 666
        },
        "id": "IvASNJHxcocP",
        "outputId": "29815199-6033-4e29-e3af-23fc17d990ca"
      },
      "outputs": [
        {
          "output_type": "display_data",
          "data": {
            "text/plain": [
              "<Figure size 1200x700 with 1 Axes>"
            ],
            "image/png": "[encoded data removed]"
          },
          "metadata": {}
        }
      ],
      "source": [
        "fig, ax = plt.subplots(figsize = (12, 7)) # Tạo figure và axes cho biểu đồ\n",
        "ax.quiver([0, 0],[0, 0],A[0,0], A[1,0],scale=10,label=\"$a_{1}$\") # Vẽ vector cột đầu tiên của A\n",
        "ax.quiver([0, 0],[0, 0],A[0,1], A[1,1],scale=10,label=\"$a_{2}$\") # Vẽ vector cột thứ hai của A\n",
        "ax.quiver([0,0],[0,0],b[0], b[1],scale=10,label=\"b\",color='r') # Vẽ vector b màu đỏ\n",
        "ax.quiver([0,0],[0,0],x[0], x[1],scale=10,label=\"x\",color='b') # Vẽ vector x màu xanh\n",
        "ax.set_xlim([-10,10]) # Đặt giới hạn trục x\n",
        "ax.set_ylim([-5,10]) # Đặt giới hạn trục y\n",
        "fig.legend() # Hiển thị chú giải\n",
        "plt.show() # Hiển thị biểu đồ"
      ]
    },
    {
      "cell_type": "markdown",
      "metadata": {
        "id": "z49Ut-fxcocQ"
      },
      "source": [
        "### Multiplying Matrices\n"
      ]
    },
    {
      "cell_type": "markdown",
      "metadata": {
        "id": "5Lfg3YeWcocQ"
      },
      "source": [
        "If a matrix $\\mathbf{C}$ is the product of matrix $\\mathbf{A}$ and matrix $\\mathbf{B}$, then the $i-th$ row $j-th$ column is obtained by multiplying term-by-term the entries of the $i-th$ row of $\\mathbf{A}$ and the $j-th$ column of $\\mathbf{B}$, and summing these $n$ products. In other words, you can also think of the  $i-th$ row $j-th$ column as the dot product of the $i-th$ row of $\\mathbf{A}$  and the $j-th$ column of $\\mathbf{B}$:\n"
      ]
    },
    {
      "cell_type": "markdown",
      "metadata": {
        "id": "JkeQQJINcocQ"
      },
      "source": [
        "$\\mathbf{C}=\\mathbf{AB}$\n",
        "\n",
        "$=\\begin{pmatrix}\n",
        "a\\_{11}b\\_{11} +\\cdots + a\\_{1n}b\\_{n1} & a\\_{11}b\\_{12} +\\cdots + a\\_{1n}b\\_{n2} & \\cdots & a\\_{11}b\\_{1p} +\\cdots + a\\_{1n}b\\_{np} \\\\\\\\\\\\\n",
        "a\\_{21}b\\_{11} +\\cdots + a\\_{2n}b\\_{n1} & a\\_{21}b\\_{12} +\\cdots + a\\_{2n}b\\_{n2} & \\cdots & a\\_{21}b\\_{1p} +\\cdots + a\\_{2n}b\\_{np} \\\\\\\\\\\\\n",
        "\\vdots & \\vdots & \\ddots & \\vdots \\\\\\\\\\\\\n",
        "a\\_{m1}b\\_{11} +\\cdots + a\\_{mn}b\\_{n1} & a\\_{m1}b\\_{12} +\\cdots + a\\_{mn}b\\_{n2} & \\cdots & a\\_{m1}b\\_{1p} +\\cdots + a\\_{mn}b\\_{np} \\\\\\\\\\\\\n",
        "\\end{pmatrix} $\n"
      ]
    },
    {
      "cell_type": "code",
      "execution_count": 37,
      "metadata": {
        "colab": {
          "base_uri": "https://localhost:8080/",
          "height": 58
        },
        "id": "kZMqPJ9OcocQ",
        "outputId": "c4b298ec-3290-4abf-9bb6-ef7b948b07a2"
      },
      "outputs": [
        {
          "output_type": "execute_result",
          "data": {
            "text/plain": [
              "⎡0  -2⎤\n",
              "⎢     ⎥\n",
              "⎣3  -1⎦"
            ],
            "text/latex": "$\\displaystyle \\left[\\begin{matrix}0 & -2\\\\3 & -1\\end{matrix}\\right]$"
          },
          "metadata": {},
          "execution_count": 37
        }
      ],
      "source": [
        "C=A@B # Nhân ma trận A với ma trận B, gán cho C\n",
        "Matrix(C) # Hiển thị ma trận C bằng SymPy"
      ]
    },
    {
      "cell_type": "markdown",
      "metadata": {
        "id": "hhV_gb8fcocQ"
      },
      "source": [
        "You can repeat the process for more matrices, if the matrix is full rank, we can invert it: $\\mathbf{A}^{-1}$\n"
      ]
    },
    {
      "cell_type": "code",
      "execution_count": 38,
      "metadata": {
        "colab": {
          "base_uri": "https://localhost:8080/",
          "height": 58
        },
        "id": "YO52XTa_cocQ",
        "outputId": "618f7799-c181-4037-b1b1-dbe9181d6e21"
      },
      "outputs": [
        {
          "output_type": "execute_result",
          "data": {
            "text/plain": [
              "⎡-0.666666666666667  0.333333333333333⎤\n",
              "⎢                                     ⎥\n",
              "⎣0.333333333333333   0.333333333333333⎦"
            ],
            "text/latex": "$\\displaystyle \\left[\\begin{matrix}-0.666666666666667 & 0.333333333333333\\\\0.333333333333333 & 0.333333333333333\\end{matrix}\\right]$"
          },
          "metadata": {},
          "execution_count": 38
        }
      ],
      "source": [
        "A_inv=inv(A) # Tính ma trận nghịch đảo của A, gán cho A_inv\n",
        "Matrix(A_inv) # Hiển thị ma trận A_inv bằng SymPy"
      ]
    },
    {
      "cell_type": "markdown",
      "metadata": {
        "id": "Gh9zcp_acocQ"
      },
      "source": [
        "This can be a complex computation. If we multiply a matrix with its inverse, we get the Identity matrix $\\mathbf{AA}^{-1}=I$.\n"
      ]
    },
    {
      "cell_type": "code",
      "execution_count": 39,
      "metadata": {
        "colab": {
          "base_uri": "https://localhost:8080/",
          "height": 58
        },
        "id": "NmxdlvZLcocQ",
        "outputId": "3c3ba087-a4a0-4cb7-8b33-131b2dc7622f"
      },
      "outputs": [
        {
          "output_type": "execute_result",
          "data": {
            "text/plain": [
              "⎡1.0  -1.11022302462516e-16⎤\n",
              "⎢                          ⎥\n",
              "⎣0.0           1.0         ⎦"
            ],
            "text/latex": "$\\displaystyle \\left[\\begin{matrix}1.0 & -1.11022302462516 \\cdot 10^{-16}\\\\0.0 & 1.0\\end{matrix}\\right]$"
          },
          "metadata": {},
          "execution_count": 39
        }
      ],
      "source": [
        "I=A_inv@A # Nhân ma trận nghịch đảo của A với A, gán cho I (nên ra ma trận đơn vị)\n",
        "Matrix(I) # Hiển thị ma trận I bằng SymPy"
      ]
    },
    {
      "cell_type": "markdown",
      "metadata": {
        "id": "oh3g8bPgcocQ"
      },
      "source": [
        "If we multiply any square matrix with an Identity matrix, we get the original Matrix, for example $IA=A$ in numpy:\n"
      ]
    },
    {
      "cell_type": "code",
      "execution_count": 40,
      "metadata": {
        "colab": {
          "base_uri": "https://localhost:8080/"
        },
        "id": "ShRfDd2kcocQ",
        "outputId": "d0bae954-c5c3-45db-f7b6-18075e7715d1"
      },
      "outputs": [
        {
          "output_type": "execute_result",
          "data": {
            "text/plain": [
              "array([[-1.,  1.],\n",
              "       [ 1.,  2.]])"
            ]
          },
          "metadata": {},
          "execution_count": 40
        }
      ],
      "source": [
        "A@I # Nhân ma trận A với ma trận đơn vị I (nên ra lại ma trận A)"
      ]
    },
    {
      "cell_type": "markdown",
      "metadata": {
        "id": "4_GZQzh-cocQ"
      },
      "source": [
        "### Exercise 3\n",
        "\n",
        "Use the inverse of  matrix $\\mathbf{A}$ to solve for $\\mathbf{x}$ given $\\mathbf{b}$ and assign it to `x_` compare the result to `x`\n"
      ]
    },
    {
      "cell_type": "code",
      "execution_count": 41,
      "metadata": {
        "id": "Amf0Kmy6cocQ"
      },
      "outputs": [],
      "source": [
        "# TO DO\n",
        "# Sử dụng ma trận nghịch đảo A_inv và vector b để giải phương trình Ax = b tìm x\n",
        "# Gán kết quả cho x_\n",
        "# So sánh x_ với vector x ban đầu"
      ]
    },
    {
      "cell_type": "markdown",
      "metadata": {
        "id": "F6B6dK8NcocQ"
      },
      "source": [
        "<details>\n",
        "    <summary>Click here for Solution</summary>\n",
        "\n",
        "```python\n",
        "x_=A_inv@b\n",
        "print(\"x_ :\",x_)\n",
        "print(\"x:\",x)\n",
        "```\n",
        "\n",
        "</details>\n"
      ]
    },
    {
      "cell_type": "markdown",
      "metadata": {
        "id": "Tuom-Un-cocR"
      },
      "source": [
        "Another type of matrixes is the **orthogonal matrix**. An <b>orthogonal matrix</b> is extremely useful: if matrix $Q$ is orthogonal, such as $Q^T=Q^{-1}$, the rows and columns are orthogonal also. For example:\n"
      ]
    },
    {
      "cell_type": "code",
      "execution_count": 42,
      "metadata": {
        "colab": {
          "base_uri": "https://localhost:8080/"
        },
        "id": "InDpkTbecocR",
        "outputId": "0c2a0b84-6c81-4ff1-fc6f-e3796e808ee7"
      },
      "outputs": [
        {
          "output_type": "execute_result",
          "data": {
            "text/plain": [
              "array([[ 0.70710678,  0.70710678],\n",
              "       [ 0.70710678, -0.70710678]])"
            ]
          },
          "metadata": {},
          "execution_count": 42
        }
      ],
      "source": [
        "Q=np.array([[1,1],[1,-1]])*2**(-1/2) # Tạo ma trận Q (ma trận trực giao)\n",
        "Q # Hiển thị ma trận Q"
      ]
    },
    {
      "cell_type": "markdown",
      "metadata": {
        "id": "ARkfGJxvcocR"
      },
      "source": [
        "We can verify that $Q^T=Q^{-1}$:\n"
      ]
    },
    {
      "cell_type": "code",
      "execution_count": 43,
      "metadata": {
        "colab": {
          "base_uri": "https://localhost:8080/",
          "height": 58
        },
        "id": "4eew1d6xcocR",
        "outputId": "e5da4672-434a-4461-cccd-8385acdb047b"
      },
      "outputs": [
        {
          "output_type": "execute_result",
          "data": {
            "text/plain": [
              "⎡        1.0           4.26642158858964e-17⎤\n",
              "⎢                                          ⎥\n",
              "⎣4.26642158858964e-17          1.0         ⎦"
            ],
            "text/latex": "$\\displaystyle \\left[\\begin{matrix}1.0 & 4.26642158858964 \\cdot 10^{-17}\\\\4.26642158858964 \\cdot 10^{-17} & 1.0\\end{matrix}\\right]$"
          },
          "metadata": {},
          "execution_count": 43
        }
      ],
      "source": [
        "I=Q@Q.T # Nhân ma trận Q với ma trận chuyển vị của nó (nên ra ma trận đơn vị)\n",
        "Matrix(I) # Hiển thị ma trận I bằng SymPy"
      ]
    },
    {
      "cell_type": "markdown",
      "metadata": {
        "id": "kuO0LktFcocR"
      },
      "source": [
        "For an <b>orthogonal matrix</b>, the columns are orthogonal:\n"
      ]
    },
    {
      "cell_type": "code",
      "execution_count": 44,
      "metadata": {
        "colab": {
          "base_uri": "https://localhost:8080/",
          "height": 622
        },
        "id": "PqWEL5W3cocR",
        "outputId": "d23854c6-de2e-4bef-c234-7cf34fcad68c"
      },
      "outputs": [
        {
          "output_type": "display_data",
          "data": {
            "text/plain": [
              "<Figure size 1200x700 with 1 Axes>"
            ],
            "image/png": "[encoded data removed]"
          },
          "metadata": {}
        }
      ],
      "source": [
        "fig, ax = plt.subplots(figsize = (12, 7)) # Tạo figure và axes cho biểu đồ\n",
        "ax.quiver([0, 0],[0, 0],B[0,0], B[1,0],scale=10,label=\"$q_{1}$\") # Vẽ vector cột đầu tiên của B (ma trận trực giao)\n",
        "ax.quiver([0, 0],[0, 0],B[0,1], B[1,1],scale=10,label=\"$q_{2}$\") # Vẽ vector cột thứ hai của B\n",
        "plt.title(\"columns of $B$ \") # Đặt tiêu đề cho biểu đồ\n",
        "plt.legend() # Hiển thị chú giải\n",
        "plt.show() # Hiển thị biểu đồ"
      ]
    },
    {
      "cell_type": "markdown",
      "metadata": {
        "id": "Zur7Ov24cocR"
      },
      "source": [
        "We usually place our data in a design matrix $X$, which is a matrix where each row represents an individual sample. Consider the following example `X_`\n"
      ]
    },
    {
      "cell_type": "code",
      "execution_count": 45,
      "metadata": {
        "colab": {
          "base_uri": "https://localhost:8080/"
        },
        "id": "9jjh2dRTcocR",
        "outputId": "f58c24e2-6adf-4d1f-e658-430b4ed30260"
      },
      "outputs": [
        {
          "output_type": "execute_result",
          "data": {
            "text/plain": [
              "array([[10.68049071, 10.61260691],\n",
              "       [ 9.36741991,  9.39227796],\n",
              "       [17.10807702, 17.54055341],\n",
              "       [ 5.10949655,  5.22514933],\n",
              "       [ 7.79131676,  8.32967897]])"
            ]
          },
          "metadata": {},
          "execution_count": 45
        }
      ],
      "source": [
        "samples=200 # Số lượng mẫu\n",
        "\n",
        "u=np.array([[1.0,1.0],[0.10,-0.10]])/(2)**(0.5) # Tạo ma trận u\n",
        "# Tạo dữ liệu X_ bằng cách nhân ma trận ngẫu nhiên với u và cộng thêm 10\n",
        "X_=np.dot(4*np.random.randn(samples,2),u)+10\n",
        "X_[0:5] # Hiển thị 5 hàng đầu tiên của X_"
      ]
    },
    {
      "cell_type": "markdown",
      "metadata": {
        "id": "gmT98pdOcocR"
      },
      "source": [
        "We can plot the samples:\n"
      ]
    },
    {
      "cell_type": "code",
      "execution_count": 46,
      "metadata": {
        "colab": {
          "base_uri": "https://localhost:8080/",
          "height": 432
        },
        "id": "_I4ZsQe2cocS",
        "outputId": "6db3cf1c-2a1b-408c-9504-53dfa03ef3a0"
      },
      "outputs": [
        {
          "output_type": "display_data",
          "data": {
            "text/plain": [
              "<Figure size 640x480 with 1 Axes>"
            ],
            "image/png": "[encoded data removed]"
          },
          "metadata": {}
        }
      ],
      "source": [
        "dict_={\"design matrix samples\":X_} # Tạo dictionary chứa dữ liệu X_\n",
        "plot_2d(dict_) # Vẽ biểu đồ 2D cho dữ liệu X_"
      ]
    },
    {
      "cell_type": "markdown",
      "metadata": {
        "id": "2HhbhlmHcocS"
      },
      "source": [
        "We can find the shape of the design matrix:\n"
      ]
    },
    {
      "cell_type": "code",
      "execution_count": 47,
      "metadata": {
        "colab": {
          "base_uri": "https://localhost:8080/"
        },
        "id": "vHW2VZWhcocS",
        "outputId": "eae1fb99-8edb-4066-baa5-5a563611217f"
      },
      "outputs": [
        {
          "output_type": "stream",
          "name": "stdout",
          "text": [
            "number of smaples 200, dimensions is 2\n"
          ]
        }
      ],
      "source": [
        "N,D=X_.shape # Lấy số hàng (N) và số cột (D) của X_\n",
        "print(\"number of smaples {}, dimensions is {}\".format(N,D)) # In số lượng mẫu và số chiều"
      ]
    },
    {
      "cell_type": "markdown",
      "metadata": {
        "id": "x3n2emzmcocS"
      },
      "source": [
        "We can also perform lots of operations with Matrix multiplication, for example we can calculate the mean with the following:\n"
      ]
    },
    {
      "cell_type": "code",
      "execution_count": 48,
      "metadata": {
        "colab": {
          "base_uri": "https://localhost:8080/"
        },
        "id": "VsA5lETEcocS",
        "outputId": "90183aea-1587-4eab-beb3-ee6255dc03a5"
      },
      "outputs": [
        {
          "output_type": "execute_result",
          "data": {
            "text/plain": [
              "array([[10.02925288, 10.09114869]])"
            ]
          },
          "metadata": {},
          "execution_count": 48
        }
      ],
      "source": [
        "# Tính trung bình của X_ bằng phép nhân ma trận\n",
        "mean=(np.ones((1,N))/N)@X_\n",
        "mean # Hiển thị giá trị trung bình"
      ]
    },
    {
      "cell_type": "markdown",
      "metadata": {
        "id": "mBms4iVHcocS"
      },
      "source": [
        "We can verify the result in numpy.\n"
      ]
    },
    {
      "cell_type": "code",
      "execution_count": 49,
      "metadata": {
        "colab": {
          "base_uri": "https://localhost:8080/"
        },
        "id": "40VrqZCbcocS",
        "outputId": "13fae9f2-1ddb-4a3c-e055-0df9bed385cb"
      },
      "outputs": [
        {
          "output_type": "execute_result",
          "data": {
            "text/plain": [
              "array([10.02925288, 10.09114869])"
            ]
          },
          "metadata": {},
          "execution_count": 49
        }
      ],
      "source": [
        "X_.mean(axis=0) # Tính trung bình của X_ theo cột bằng hàm mean của numpy"
      ]
    },
    {
      "cell_type": "markdown",
      "metadata": {
        "tags": [],
        "id": "SJyptzsrcocS"
      },
      "source": [
        "### Exercise 4\n",
        "\n",
        "Perform matrix multiplication using **no_mean** and **X\\_**, save the result in **X**. Show the mean of **X** with respect to the rows is approximately zero:\n"
      ]
    },
    {
      "cell_type": "code",
      "execution_count": 50,
      "metadata": {
        "id": "dMHk7RpucocS"
      },
      "outputs": [],
      "source": [
        "I=np.identity(N) # Tạo ma trận đơn vị kích thước NxN\n",
        "col1=np.ones((1,N)) # Tạo ma trận hàng gồm toàn số 1 kích thước 1xN\n",
        "row1=np.ones((N,1))/N # Tạo ma trận cột gồm toàn số 1/N kích thước Nx1\n",
        "# Tạo ma trận no_mean để loại bỏ giá trị trung bình\n",
        "no_mean=(I-row1@col1)"
      ]
    },
    {
      "cell_type": "code",
      "execution_count": 51,
      "metadata": {
        "colab": {
          "base_uri": "https://localhost:8080/"
        },
        "id": "pXiDtvZncocS",
        "outputId": "2bc27175-4fd7-4d9a-9fbc-f30178825d37"
      },
      "outputs": [
        {
          "output_type": "stream",
          "name": "stdout",
          "text": [
            "mean of X [-7.68274333e-16  6.30606678e-16]\n"
          ]
        }
      ],
      "source": [
        "# TO DO\n",
        "# Áp dụng ma trận no_mean cho X_ để có dữ liệu X với giá trị trung bình bằng 0\n",
        "X=no_mean@X_\n",
        "print(\"mean of X\",X.mean(axis=0)) # In giá trị trung bình của X (nên xấp xỉ 0)"
      ]
    },
    {
      "cell_type": "markdown",
      "metadata": {
        "id": "G6GYLr5FcocS"
      },
      "source": [
        "<details>\n",
        "    <summary>Click here for Solution</summary>\n",
        "\n",
        "```python\n",
        "X=no_mean@X_\n",
        "print(\"mean of X\",X.mean(axis=0))\n",
        "```\n",
        "\n",
        "</details>\n"
      ]
    },
    {
      "cell_type": "code",
      "execution_count": 52,
      "metadata": {
        "colab": {
          "base_uri": "https://localhost:8080/",
          "height": 447
        },
        "id": "FrUTuzGncocS",
        "outputId": "37156afe-3ac8-414a-d1cf-d8898e59249b"
      },
      "outputs": [
        {
          "output_type": "stream",
          "name": "stdout",
          "text": [
            "[[10.02925288 10.09114869]]\n"
          ]
        },
        {
          "output_type": "display_data",
          "data": {
            "text/plain": [
              "<Figure size 640x480 with 1 Axes>"
            ],
            "image/png": "[encoded data removed]"
          },
          "metadata": {}
        }
      ],
      "source": [
        "# Tạo dictionary chứa dữ liệu gốc, dữ liệu có trung bình bằng 0 và giá trị trung bình\n",
        "dict_={\"original data\":X_,\"zero mean data\":X,\"mean\":mean}\n",
        "plot_2d(dict_) # Vẽ biểu đồ 2D cho các tập dữ liệu"
      ]
    },
    {
      "cell_type": "markdown",
      "metadata": {
        "id": "zXtPPlRvcocV"
      },
      "source": [
        "As we subtracted the mean, we can calculate the empirical covariance matrix using matrix multiplication.\n"
      ]
    },
    {
      "cell_type": "markdown",
      "metadata": {
        "id": "mSmoxwFpcocV"
      },
      "source": [
        "$C=\\frac{1}{N}   \\mathbf{X}^T \\mathbf{X} $\n"
      ]
    },
    {
      "cell_type": "code",
      "execution_count": 53,
      "metadata": {
        "colab": {
          "base_uri": "https://localhost:8080/",
          "height": 58
        },
        "id": "mwksyAjpcocV",
        "outputId": "00fabac3-71a4-443d-8cb2-73796d4d829b"
      },
      "outputs": [
        {
          "output_type": "execute_result",
          "data": {
            "text/plain": [
              "⎡8.06428838668688  8.00391156436331⎤\n",
              "⎢                                  ⎥\n",
              "⎣8.00391156436331  8.21883027664308⎦"
            ],
            "text/latex": "$\\displaystyle \\left[\\begin{matrix}8.06428838668688 & 8.00391156436331\\\\8.00391156436331 & 8.21883027664308\\end{matrix}\\right]$"
          },
          "metadata": {},
          "execution_count": 53
        }
      ],
      "source": [
        "C=X.T@X/N # Tính ma trận hiệp phương sai C từ dữ liệu X đã loại bỏ trung bình\n",
        "Matrix(C) # Hiển thị ma trận hiệp phương sai C bằng SymPy"
      ]
    },
    {
      "cell_type": "markdown",
      "metadata": {
        "id": "8L6mxDBRcocV"
      },
      "source": [
        "We can see the matrix is full rank:\n"
      ]
    },
    {
      "cell_type": "code",
      "execution_count": 54,
      "metadata": {
        "colab": {
          "base_uri": "https://localhost:8080/"
        },
        "id": "RaScbgL3cocV",
        "outputId": "c155ca83-65c5-430a-b790-f41403cbcadc"
      },
      "outputs": [
        {
          "output_type": "execute_result",
          "data": {
            "text/plain": [
              "np.int64(2)"
            ]
          },
          "metadata": {},
          "execution_count": 54
        }
      ],
      "source": [
        "matrix_rank(C) # Tính hạng của ma trận hiệp phương sai C"
      ]
    },
    {
      "cell_type": "markdown",
      "metadata": {
        "tags": [],
        "id": "8yhUI11bcocV"
      },
      "source": [
        "## Eigen Decomposition\n"
      ]
    },
    {
      "cell_type": "markdown",
      "metadata": {
        "id": "tvqesXomcocV"
      },
      "source": [
        "### Eigenvectors and Eigenvalues\n"
      ]
    },
    {
      "cell_type": "markdown",
      "metadata": {
        "id": "NTO90XRGcocV"
      },
      "source": [
        "If the Matrix is full rank we can apply Eigen factorization or Eigen decomposition to it, so that it is represented in terms of its eigenvalues $\\mathbf{\\Lambda}$ and eigenvectors embedded in $\\mathbf{Q}$, symbolically:\n"
      ]
    },
    {
      "cell_type": "markdown",
      "metadata": {
        "id": "MrqsBR48cocW"
      },
      "source": [
        "$\\mathbf{A}=\\mathbf{Q}\\mathbf{\\Lambda}\\mathbf{Q}^{-1}$\n"
      ]
    },
    {
      "cell_type": "markdown",
      "metadata": {
        "id": "_5b54ShMcocW"
      },
      "source": [
        "We can obtain the Matrices as follows:\n"
      ]
    },
    {
      "cell_type": "code",
      "execution_count": 55,
      "metadata": {
        "id": "KmasQrtwcocW"
      },
      "outputs": [],
      "source": [
        "eigen_values , eigen_vectors = eig(A) # Tính giá trị riêng (eigen_values) và vector riêng (eigen_vectors) của ma trận A"
      ]
    },
    {
      "cell_type": "markdown",
      "metadata": {
        "id": "uW2AKQ-EcocW"
      },
      "source": [
        "`eigen_values` is a vector so we convert it to a diagonal matrix  using the `np.diag` function\n"
      ]
    },
    {
      "cell_type": "code",
      "execution_count": 56,
      "metadata": {
        "colab": {
          "base_uri": "https://localhost:8080/",
          "height": 58
        },
        "id": "UZhohnAbcocW",
        "outputId": "fcec1608-a6d9-491b-c9b3-87cf4061aade"
      },
      "outputs": [
        {
          "output_type": "execute_result",
          "data": {
            "text/plain": [
              "⎡-1.30277563773199        0.0       ⎤\n",
              "⎢                                   ⎥\n",
              "⎣       0.0         2.30277563773199⎦"
            ],
            "text/latex": "$\\displaystyle \\left[\\begin{matrix}-1.30277563773199 & 0.0\\\\0.0 & 2.30277563773199\\end{matrix}\\right]$"
          },
          "metadata": {},
          "execution_count": 56
        }
      ],
      "source": [
        "Matrix(np.diag(eigen_values)) # Chuyển vector giá trị riêng thành ma trận đường chéo và hiển thị bằng SymPy"
      ]
    },
    {
      "cell_type": "markdown",
      "metadata": {
        "id": "4jiQAQImcocW"
      },
      "source": [
        "We can retrieve the original matrix as follows:\n"
      ]
    },
    {
      "cell_type": "code",
      "execution_count": 57,
      "metadata": {
        "colab": {
          "base_uri": "https://localhost:8080/",
          "height": 58
        },
        "id": "TPSQIWf3cocW",
        "outputId": "485a9c27-d89a-4054-f32f-1bc1d6e0fad4"
      },
      "outputs": [
        {
          "output_type": "execute_result",
          "data": {
            "text/plain": [
              "⎡-1.0  1.0⎤\n",
              "⎢         ⎥\n",
              "⎣1.0   2.0⎦"
            ],
            "text/latex": "$\\displaystyle \\left[\\begin{matrix}-1.0 & 1.0\\\\1.0 & 2.0\\end{matrix}\\right]$"
          },
          "metadata": {},
          "execution_count": 57
        }
      ],
      "source": [
        "# Khôi phục ma trận A từ giá trị riêng và vector riêng\n",
        "A=eigen_vectors@np.diag(eigen_values)@inv(eigen_vectors)\n",
        "Matrix(A) # Hiển thị ma trận A đã khôi phục bằng SymPy"
      ]
    },
    {
      "cell_type": "markdown",
      "metadata": {
        "id": "Fkrv2SDhcocW"
      },
      "source": [
        "## Factorization for PCA\n"
      ]
    },
    {
      "cell_type": "markdown",
      "metadata": {
        "id": "0iWu1oWUcocW"
      },
      "source": [
        "We can only use  eigen decomposition if the matrix is full rank, but even if the matrix is full rank, the eigenvalues and eigenvectors could be complex.\n",
        "\n",
        "A useful application of the symmetric matrix ($S=S^{T}$) is where we want the eigenvalues to be real and the eigenvectors to be orthogonal. For example, the covariance matrix $C$ in PCA.\n"
      ]
    },
    {
      "cell_type": "markdown",
      "metadata": {
        "id": "TLPv0KeAcocW"
      },
      "source": [
        "$\\mathbf{C}=\\mathbf{V}\\mathbf{\\Lambda}\\mathbf{V}^{T}$\n"
      ]
    },
    {
      "cell_type": "markdown",
      "metadata": {
        "id": "jSLhJPIIcocW"
      },
      "source": [
        "Using numpy,\n"
      ]
    },
    {
      "cell_type": "code",
      "execution_count": 58,
      "metadata": {
        "id": "P4-Q350DcocW"
      },
      "outputs": [],
      "source": [
        "eigen_values , eigen_vectors = eig(C) # Tính giá trị riêng và vector riêng của ma trận hiệp phương sai C"
      ]
    },
    {
      "cell_type": "markdown",
      "metadata": {
        "id": "AYfCGhJ7cocW"
      },
      "source": [
        "We can perform PCA using factorization. To find the first principle component, we need to find the eigenvector with the largest eigenvalue.\n"
      ]
    },
    {
      "cell_type": "code",
      "execution_count": 59,
      "metadata": {
        "colab": {
          "base_uri": "https://localhost:8080/"
        },
        "id": "i0-fgqO_cocX",
        "outputId": "c131edc3-1441-4c74-b4c2-d0d67bf4fa86"
      },
      "outputs": [
        {
          "output_type": "execute_result",
          "data": {
            "text/plain": [
              "array([[-0.70368541],\n",
              "       [-0.71051168]])"
            ]
          },
          "metadata": {},
          "execution_count": 59
        }
      ],
      "source": [
        "# Chọn vector riêng tương ứng với giá trị riêng lớn nhất (thành phần chính thứ nhất)\n",
        "v=eigen_vectors[:, np.argmax(eigen_values)].reshape(-1,1)\n",
        "v # Hiển thị vector v (thành phần chính thứ nhất)"
      ]
    },
    {
      "cell_type": "markdown",
      "metadata": {
        "id": "V4J-NAxlcocX"
      },
      "source": [
        "We can calculate first principal component by finding the projection of the original data onto $\\mathbf{v}$.\n"
      ]
    },
    {
      "cell_type": "markdown",
      "metadata": {
        "id": "Jh7jUvPTcocX"
      },
      "source": [
        "$\\mathbf{Z}=\\mathbf{X} \\mathbf{v}$\n"
      ]
    },
    {
      "cell_type": "code",
      "execution_count": 60,
      "metadata": {
        "id": "P0lMsXNXcocX"
      },
      "outputs": [],
      "source": [
        "Z=X@v # Chiếu dữ liệu X lên vector v để có dữ liệu đã biến đổi Z (thành phần chính thứ nhất)"
      ]
    },
    {
      "cell_type": "markdown",
      "metadata": {
        "id": "qI48I5ywcocX"
      },
      "source": [
        "### Exercise 5\n",
        "\n",
        "Perform PCA with `n_components=1` on **X**. Store the transformed data in **X_transformed**. Also do an inverse_transform using the same fitted PCA object, store the result in **X\\_**.\n"
      ]
    },
    {
      "cell_type": "code",
      "execution_count": 61,
      "metadata": {
        "id": "v5BbMm2jcocX"
      },
      "outputs": [],
      "source": [
        "#TODO\n",
        "# Thực hiện PCA với n_components=1 trên dữ liệu X\n",
        "pca = PCA(n_components=1) # Khởi tạo đối tượng PCA với 1 thành phần\n",
        "X_transformed=pca.fit_transform(X) # Fit PCA và biến đổi dữ liệu X, lưu vào X_transformed\n",
        "X_=pca.inverse_transform(X_transformed) # Thực hiện inverse_transform trên X_transformed để đưa về không gian gốc, lưu vào X_"
      ]
    },
    {
      "cell_type": "markdown",
      "metadata": {
        "id": "QWOrwcs5cocX"
      },
      "source": [
        "<details>\n",
        "    <summary>Click here for Solution</summary>\n",
        "\n",
        "```python\n",
        "pca = PCA(n_components=1)\n",
        "X_transformed=pca.fit_transform(X)\n",
        "X_=pca.inverse_transform(X_transformed)\n",
        "\n",
        "```\n",
        "\n",
        "</details>\n"
      ]
    },
    {
      "cell_type": "markdown",
      "metadata": {
        "id": "79k83t25cocX"
      },
      "source": [
        "We can also  transform the data back to its original space, using matrix multiplication:\n"
      ]
    },
    {
      "cell_type": "markdown",
      "metadata": {
        "id": "2cID9Wr9cocX"
      },
      "source": [
        "$\\hat{X}=\\mathbf{Z} \\mathbf{v}^T$\n"
      ]
    },
    {
      "cell_type": "markdown",
      "metadata": {
        "id": "kGqApkFlcocY"
      },
      "source": [
        "### Exercise 6\n",
        "\n",
        "Find the transform data back to its original space from the above equation, call it **Xhat**.\n"
      ]
    },
    {
      "cell_type": "code",
      "execution_count": 62,
      "metadata": {
        "id": "oC-AHcGNcocb"
      },
      "outputs": [],
      "source": [
        "#TODO\n",
        "# Tính dữ liệu đã biến đổi ngược về không gian gốc bằng công thức Xhat = Z @ v.T\n",
        "\n",
        "Xhat=Z@v.T # Tính Xhat bằng phép nhân ma trận Z với ma trận chuyển vị của v"
      ]
    },
    {
      "cell_type": "markdown",
      "metadata": {
        "id": "ghaIzHv8cocc"
      },
      "source": [
        "<details>\n",
        "    <summary>Click here for Solution</summary>\n",
        "\n",
        "```python\n",
        "Xhat=Z@v.T\n",
        "```\n",
        "\n",
        "</details>\n"
      ]
    },
    {
      "cell_type": "markdown",
      "metadata": {
        "id": "TmaWQ2sccocc"
      },
      "source": [
        "You can also check that the two methods give the same \"inverse transform\" result (**X\\_** and **Xhat** will overlap in the plot) by running the following cell.\n"
      ]
    },
    {
      "cell_type": "code",
      "execution_count": 63,
      "metadata": {
        "colab": {
          "base_uri": "https://localhost:8080/",
          "height": 447
        },
        "id": "iOnGZ16qcocc",
        "outputId": "72bae610-d2cb-43e8-808d-fe1d585ae1e9"
      },
      "outputs": [
        {
          "output_type": "stream",
          "name": "stdout",
          "text": [
            "[[-0.70368541 -0.71051168]]\n"
          ]
        },
        {
          "output_type": "display_data",
          "data": {
            "text/plain": [
              "<Figure size 640x480 with 1 Axes>"
            ],
            "image/png": "[encoded data removed]"
          },
          "metadata": {}
        }
      ],
      "source": [
        "# Tạo dictionary chứa dữ liệu từ inverse_transform của Sklearn, inverse_transform bằng ma trận và thành phần chính thứ nhất\n",
        "dict_ = {\"Sklearn inverse_transform\": X_, \"Matrix inverse transform\": Xhat, \"First Principal Component\": v.T}\n",
        "plot_2d(dict_) # Vẽ biểu đồ 2D để so sánh các kết quả"
      ]
    },
    {
      "cell_type": "markdown",
      "metadata": {
        "id": "wY6nGpMGcocc"
      },
      "source": [
        "# Congratulations! - You have completed the lab\n"
      ]
    },
    {
      "cell_type": "markdown",
      "metadata": {
        "id": "EuYjGhjucocc"
      },
      "source": [
        "## Authors\n"
      ]
    },
    {
      "cell_type": "markdown",
      "metadata": {
        "id": "je1LER29cocc"
      },
      "source": [
        "<a href=\"https://www.linkedin.com/in/joseph-s-50398b136/?utm_medium=Exinfluencer&utm_source=Exinfluencer&utm_content=000026UJ&utm_term=10006555&utm_id=NA-SkillsNetwork-Channel-SkillsNetworkCoursesIBMDeveloperSkillsNetworkML0101ENSkillsNetwork20718538-2021-01-01\" target=\"_blank\">Joseph Santarcangelo</a> Joseph has a Ph.D. in Electrical Engineering, his research focused on using machine learning, signal processing, and computer vision to determine how videos impact human cognition. Joseph has been working for IBM since he completed his PhD.\n"
      ]
    },
    {
      "cell_type": "markdown",
      "metadata": {
        "id": "mV10VG6bcocc"
      },
      "source": [
        "### Other Contributors\n"
      ]
    },
    {
      "cell_type": "markdown",
      "metadata": {
        "id": "ASUJRbX4cocc"
      },
      "source": [
        "[Roxanne Li](https://www.linkedin.com/in/roxanne-li/?utm_medium=Exinfluencer&utm_source=Exinfluencer&utm_content=000026UJ&utm_term=10006555&utm_id=NA-SkillsNetwork-Channel-SkillsNetworkCoursesIBMML0187ENSkillsNetwork31430127-2022-01-01) is a Data Science intern at IBM Skills Network, entering level-5 study in the Mathematics & Statistics undergraduate Coop program at McMaster University.\n"
      ]
    },
    {
      "cell_type": "markdown",
      "metadata": {
        "id": "7dbwPr98cocc"
      },
      "source": [
        "## Change Log\n"
      ]
    },
    {
      "cell_type": "markdown",
      "metadata": {
        "id": "uZxJdlo7cocc"
      },
      "source": [
        "| Date (YYYY-MM-DD) | Version | Changed By  | Change Description  |\n",
        "| ----------------- | ------- | ----------- | ------------------- |\n",
        "| 2022-03-25        | 0.1     | Joseph S.   | Updated all content |\n",
        "| 2022-05-26        | 0.1     | Roxanne Li  | Review and edit     |\n",
        "| 2022-06-09        | 0.1     | Steve H.    | QA pass             |\n",
        "| 2022-07-15        | 0.1     | Svitlana K. | Review and edit     |\n"
      ]
    },
    {
      "cell_type": "markdown",
      "metadata": {
        "id": "pPNjB4aPcocc"
      },
      "source": [
        "Copyright © 2021 IBM Corporation. All rights reserved.\n"
      ]
    }
  ],
  "metadata": {
    "kernelspec": {
      "display_name": "Python",
      "language": "python",
      "name": "conda-env-python-py"
    },
    "language_info": {
      "name": ""
    },
    "colab": {
      "provenance": [],
      "gpuType": "T4"
    },
    "accelerator": "GPU"
  },
  "nbformat": 4,
  "nbformat_minor": 0
}